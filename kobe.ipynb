{
  "nbformat": 4,
  "nbformat_minor": 0,
  "metadata": {
    "colab": {
      "name": "kobe.ipynb",
      "provenance": [],
      "collapsed_sections": []
    },
    "kernelspec": {
      "name": "python3",
      "display_name": "Python 3"
    }
  },
  "cells": [
    {
      "cell_type": "code",
      "metadata": {
        "id": "_IWtm_6DyQWx"
      },
      "source": [
        "import pandas as pandas\n",
        "import math\n",
        "import numpy as np\n",
        "from scipy import stats, integrate\n",
        "import matplotlib.pyplot as plt\n",
        "import seaborn as sns\n",
        "import sklearn as sklearn"
      ],
      "execution_count": 1,
      "outputs": []
    },
    {
      "cell_type": "code",
      "metadata": {
        "id": "CyM-5enz5Urs"
      },
      "source": [
        "#get data from github\n",
        "url = \"https://github.com/tjzuech/ml-project/raw/main/data.csv.zip\"\n",
        "data = pandas.read_csv(url)"
      ],
      "execution_count": 2,
      "outputs": []
    },
    {
      "cell_type": "code",
      "metadata": {
        "id": "-BZ4l-10W1VX"
      },
      "source": [
        "#visulaize the data\n",
        "#data.head(10)"
      ],
      "execution_count": 3,
      "outputs": []
    },
    {
      "cell_type": "code",
      "metadata": {
        "id": "aLjsMssKWoPF"
      },
      "source": [
        "#create a Home or Away Flag via the an @ or vs in the matchup feature\n",
        "data.loc[data.matchup.str.find(\"@\") >= 0, \"home_flag\"] = \"0\"\n",
        "data.loc[data.matchup.str.find(\"vs\") >= 0, \"home_flag\"] = \"1\"\n",
        "#data.location.value_counts()"
      ],
      "execution_count": 4,
      "outputs": []
    },
    {
      "cell_type": "code",
      "metadata": {
        "id": "V5YXmuesWop7"
      },
      "source": [
        "#create a running time column\n",
        "time = []\n",
        "for i in range(0,len(data.period)):\n",
        "  minutes = data.period.iloc[i] * 12 - data.minutes_remaining.iloc[i] #calculate running minutes based on period and minutes remaining\n",
        "  seconds = 60 - data.seconds_remaining.iloc[i] #calculate running seconds based on seconds remaining\n",
        "  seconds = seconds / 60 #make seconds as a fraction of a minute\n",
        "  if seconds == 1: # if the time is 60 seconds remaining, do not add a full minute\n",
        "    seconds = 0\n",
        "  time.append(minutes - seconds)\n",
        "data[\"time\"] = time\n"
      ],
      "execution_count": 5,
      "outputs": []
    },
    {
      "cell_type": "code",
      "metadata": {
        "id": "Qm70mejTsKDy"
      },
      "source": [
        "#drop unnecessary columns\n",
        "data = data.drop(columns = [\"minutes_remaining\",\"period\",\"seconds_remaining\",\"shot_distance\", \"shot_zone_basic\",\"shot_zone_area\",\"team_name\",\"team_id\",\"matchup\",\"shot_zone_range\",\"combined_shot_type\",\"game_id\",\"lat\",\"lon\"])\n",
        "#data.head(10)"
      ],
      "execution_count": 6,
      "outputs": []
    },
    {
      "cell_type": "code",
      "metadata": {
        "id": "6RzIyYxmKbDR"
      },
      "source": [
        "#create more accurate shot distance\n",
        "distance = []\n",
        "for i in range(0,len(data.loc_x)):\n",
        "  shot_distance = math.sqrt(data.loc_x.iloc[i] ** 2 + data.loc_y.iloc[i] ** 2) #shot distance based on right triangle to hoop\n",
        "  distance.append(shot_distance)\n",
        "data[\"shot_distance\"] = distance"
      ],
      "execution_count": 7,
      "outputs": []
    },
    {
      "cell_type": "code",
      "metadata": {
        "id": "orZAzSFADkjL",
        "colab": {
          "base_uri": "https://localhost:8080/"
        },
        "outputId": "9f7e6c5b-d400-48e5-ddd4-335856344f24"
      },
      "source": [
        "#data visualization\n",
        "made = data.groupby(\"home_flag\")[\"shot_made_flag\"].sum()\n",
        "total = data.groupby(\"home_flag\")[\"shot_made_flag\"].count()\n",
        "print(made/total)\n",
        "\n",
        "made_by_shot = data.groupby(\"action_type\")[\"shot_made_flag\"].sum()\n",
        "total_by_shot = data.groupby(\"action_type\")[\"shot_made_flag\"].count()\n",
        "made_by_shot.sort_values(ascending = False)\n",
        "total_by_shot.sort_values(ascending = False)\n",
        "shotPercentage = made_by_shot/total_by_shot\n",
        "shotPercentage = shotPercentage.sort_values(ascending = False)\n",
        "#print(shotPercentage)"
      ],
      "execution_count": 8,
      "outputs": [
        {
          "output_type": "stream",
          "text": [
            "home_flag\n",
            "0    0.436421\n",
            "1    0.456468\n",
            "Name: shot_made_flag, dtype: float64\n"
          ],
          "name": "stdout"
        }
      ]
    },
    {
      "cell_type": "code",
      "metadata": {
        "id": "szEmT_TGCNFB"
      },
      "source": [
        "#feature selection\n"
      ],
      "execution_count": 9,
      "outputs": []
    },
    {
      "cell_type": "code",
      "metadata": {
        "id": "dzxxkKw3DMlm"
      },
      "source": [
        "#convert string to categorical data\n",
        "categories = []\n",
        "categories = [\"action_type\",\"season\",\"shot_type\",\"opponent\"]\n",
        "\n",
        "for i in range(0,len(categories),1):\n",
        "  data[categories[i]] = data[categories[i]].astype('category') #convert to categories\n",
        "  data[categories[i]] = data[categories[i]].cat.codes #use category numbers\n"
      ],
      "execution_count": 10,
      "outputs": []
    },
    {
      "cell_type": "code",
      "metadata": {
        "id": "QTBO_oeUJTAm"
      },
      "source": [
        "#convert game date to integer date\n",
        "import datetime\n",
        "from datetime import datetime\n",
        "from pandas import Timestamp\n",
        "date_as_int = []\n",
        "\n",
        "for i in range(0,len(data.game_date)):\n",
        "    date = data.game_date.iloc[i]\n",
        "    values = date.split(\"-\") #split the year, month, and day\n",
        "    date_as_int.append(1000*(int(values[0]))+ 10* int(values[1]) + int(values[2])) #1000*year + 10*month + day\n",
        "\n",
        "data[\"date_as_int\"] = date_as_int\n",
        "data = data.drop(columns = \"game_date\")\n"
      ],
      "execution_count": 11,
      "outputs": []
    },
    {
      "cell_type": "code",
      "metadata": {
        "id": "smiMWXiwR3Zq"
      },
      "source": [
        "#import models\n",
        "\n",
        "from sklearn.model_selection import train_test_split\n",
        "\n",
        "\n",
        "#classifiers\n",
        "from sklearn.neural_network import MLPClassifier\n",
        "from sklearn.neighbors import KNeighborsClassifier\n",
        "from sklearn.svm import SVC\n",
        "from sklearn.gaussian_process import GaussianProcessClassifier\n",
        "from sklearn.gaussian_process.kernels import RBF\n",
        "from sklearn.tree import DecisionTreeClassifier\n",
        "from sklearn.ensemble import RandomForestClassifier, AdaBoostClassifier\n",
        "from sklearn.naive_bayes import GaussianNB\n",
        "from sklearn.discriminant_analysis import QuadraticDiscriminantAnalysis\n",
        "from sklearn.linear_model import LogisticRegression\n",
        "#estimators\n",
        "from sklearn.linear_model import LinearRegression\n",
        "\n",
        "from sklearn import metrics"
      ],
      "execution_count": 12,
      "outputs": []
    },
    {
      "cell_type": "code",
      "metadata": {
        "id": "2qJpxHGVx-4h"
      },
      "source": [
        "#drop NaN values from shot made flag\n",
        "testdata = data[data.shot_made_flag.isna()]\n",
        "data = data.dropna()\n",
        "#testdata.head()"
      ],
      "execution_count": 13,
      "outputs": []
    },
    {
      "cell_type": "code",
      "metadata": {
        "id": "dv2s_kZZBDQM"
      },
      "source": [
        "#create training/testing data for analyzing the model\n",
        "#x = data.drop(columns = \"shot_made_flag\")\n",
        "#y = data[\"shot_made_flag\"]\n",
        "\n",
        "#train_x, test_x, train_y, test_y = train_test_split(x, y, train_size = .83, test_size = .17, random_state = 99)"
      ],
      "execution_count": 14,
      "outputs": []
    },
    {
      "cell_type": "code",
      "metadata": {
        "id": "EUCDdwFzzB26"
      },
      "source": [
        "#create finalized testing data\n",
        "#only uncomment once done with final iterations\n",
        "train_x = data.drop(columns = \"shot_made_flag\")\n",
        "train_y = data[\"shot_made_flag\"]\n",
        "test_x = testdata.drop(columns = \"shot_made_flag\")\n",
        "test_y = testdata[\"shot_made_flag\"]\n",
        "#test_x.head"
      ],
      "execution_count": 15,
      "outputs": []
    },
    {
      "cell_type": "code",
      "metadata": {
        "id": "FRx7lXPCUkvV"
      },
      "source": [
        "#feature selection on finished features\n",
        "from sklearn.decomposition import PCA\n",
        "from sklearn.feature_selection import SelectKBest\n",
        "from sklearn.feature_selection import f_classif\n",
        "selector = SelectKBest(f_classif,k = 13).fit(train_x,train_y)\n",
        "\n",
        "\n",
        "\n",
        "\n",
        "mask = selector.get_support() #list of booleans\n",
        "features_dropped = [] # The list of your K best features\n",
        "\n",
        "old_features = list(train_x.columns.values)\n",
        "for bool, feature in zip(mask, old_features):\n",
        "    if not bool:\n",
        "        features_dropped.append(feature)\n",
        "features_dropped\n",
        "\n",
        "train_x = train_x.drop(columns = features_dropped)\n",
        "test_x = test_x.drop(columns = features_dropped)\n",
        "\n",
        "\n",
        "#pca = PCA(n_components = 13)\n",
        "#pca.fit(train_x,train_y)\n",
        "#pca.explained_variance_"
      ],
      "execution_count": 16,
      "outputs": []
    },
    {
      "cell_type": "code",
      "metadata": {
        "id": "bHjQ5WctAuOY"
      },
      "source": [
        "#test models\n",
        "\n",
        "#run to use all classifiers\n",
        "classifiers = [KNeighborsClassifier(),GaussianNB(),DecisionTreeClassifier(),AdaBoostClassifier(),QuadraticDiscriminantAnalysis(),LogisticRegression(),RandomForestClassifier(n_estimators = 50)]\n",
        "for classifier in classifiers:\n",
        "  classifier = classifier\n",
        "  classifier.fit(train_x,train_y)\n",
        "  train_y_pred = classifier.predict_proba(train_x) #train predicted values\n",
        "  test_y_pred = classifier.predict_proba(test_x) #test predicted values\n",
        "  train_log_loss = metrics.log_loss(train_y,train_y_pred) # log_loss\n",
        "#  test_log_loss = metrics.log_loss(test_y,test_y_pred) #log_loss\n",
        "  \n",
        "#  print(\"\\n\\n\",classifier)\n",
        "#  print(\"Train Log_Loss\" , train_log_loss)\n",
        "#  print(\"Test Log_Loss\",test_log_loss)\n",
        "\n",
        "#run to use all estimators  \n",
        "estimators = [LinearRegression()]\n",
        "for estimator in estimators:\n",
        "  estimator = estimator\n",
        "  estimator.fit(train_x,train_y)\n",
        "  train_y_pred = estimator.predict(train_x) #train predicted values\n",
        "  test_y_pred = estimator.predict(test_x) #test predicted values\n",
        "  train_log_loss = metrics.log_loss(train_y,train_y_pred) #log_loss\n",
        "#  test_log_loss = metrics.log_loss(test_y,test_y_pred) #log_loss\n",
        "#  print(\"\\n\\n\",estimator)\n",
        "#  print(\"Train Log_Loss\" , train_log_loss)\n",
        "#  print(\"Test Log_Loss\",test_log_loss)"
      ],
      "execution_count": 17,
      "outputs": []
    },
    {
      "cell_type": "code",
      "metadata": {
        "id": "c2ygXH5z2Qlg"
      },
      "source": [
        "#run final model\n",
        "classifier = RandomForestClassifier(n_estimators = 1000,min_samples_leaf = 2,min_samples_split = 4)\n",
        "classifier.fit(train_x,train_y)\n",
        "train_y_pred = classifier.predict_proba(train_x)\n",
        "test_y_pred = classifier.predict_proba(test_x)"
      ],
      "execution_count": 18,
      "outputs": []
    },
    {
      "cell_type": "code",
      "metadata": {
        "id": "Gz1g_E84Sz4T"
      },
      "source": [
        "#create submission\n",
        "submission = pandas.DataFrame()\n",
        "shot_id = []\n",
        "shot_made_flag = []\n",
        "for i in range(len(test_x.shot_id)):\n",
        "  shot_id.append(test_x.shot_id.iloc[i]) # fill the shot_id array\n",
        "  shot_made_flag.append(test_y_pred[i,1]) # fill the shot_made_flag array\n",
        "submission[\"shot_id\"] = shot_id\n",
        "submission[\"shot_made_flag\"] = shot_made_flag\n",
        "\n",
        "submission.to_csv('submission.csv', index=False) # create the submission file\n",
        "\n"
      ],
      "execution_count": 19,
      "outputs": []
    }
  ]
}